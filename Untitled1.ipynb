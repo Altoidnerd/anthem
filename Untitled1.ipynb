{
 "cells": [
  {
   "cell_type": "code",
   "execution_count": null,
   "metadata": {},
   "outputs": [],
   "source": [
    "\n",
    "\n",
    "\n",
    "def myfunc(arg):\n",
    "    if arg == 0:\n",
    "        return 'arg is 0'\n",
    "    else:\n",
    "        return 'arg isnt 0'\n",
    "    \n",
    "    \n",
    "def myfunc(arg):\n",
    "    if arg==0:\n",
    "        return 'arg is 0'\n",
    "    return 'arg isnt 0"
   ]
  }
 ],
 "metadata": {
  "kernelspec": {
   "display_name": "Python 3",
   "language": "python",
   "name": "python3"
  },
  "language_info": {
   "codemirror_mode": {
    "name": "ipython",
    "version": 3
   },
   "file_extension": ".py",
   "mimetype": "text/x-python",
   "name": "python",
   "nbconvert_exporter": "python",
   "pygments_lexer": "ipython3",
   "version": "3.7.4"
  }
 },
 "nbformat": 4,
 "nbformat_minor": 4
}
